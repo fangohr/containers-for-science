{
 "cells": [
  {
   "cell_type": "markdown",
   "metadata": {},
   "source": [
    "# Working on data on host system (mount directory)\n",
    "\n",
    "## Non-persistance of file system changes in container\n",
    "\n",
    "While the container is a nice environment to provide our tailored installation environment and computational tools, it does not retain any changes to the disk system: as soon as the container process is stopped, all changes to the files within the container are forgotten:"
   ]
  },
  {
   "cell_type": "code",
   "execution_count": 1,
   "metadata": {},
   "outputs": [
    {
     "name": "stdout",
     "output_type": "stream",
     "text": [
      "-rw-r--r--  1 fangohr  staff  6 Sep  8 21:40 hello.txt\r\n"
     ]
    }
   ],
   "source": [
    "!docker run ubuntu:18.04 echo \"Hello\" > hello.txt && ls -l hello.txt"
   ]
  },
  {
   "cell_type": "markdown",
   "metadata": {},
   "source": [
    "In the example above, we create the file `hello.txt` and store `Hello` in it. The `&&` means that if that command was executed successfully, we will carry on and also execute the next one. The next command (`ls -l hello.txt`) tries to display the file `hello.txt`, and the command succeeds.\n",
    "\n",
    "At this point, our container sessions stops, and all changes in the container are forgotten. We can confirm this by trying to use `ls -l` exactly as we did before, but find that the file `hello.txt` is not there:"
   ]
  },
  {
   "cell_type": "code",
   "execution_count": 2,
   "metadata": {},
   "outputs": [
    {
     "name": "stdout",
     "output_type": "stream",
     "text": [
      "ls: cannot access 'hello.txt': No such file or directory\r\n"
     ]
    }
   ],
   "source": [
    "!docker run ubuntu:18.04 ls -l hello.txt"
   ]
  },
  {
   "cell_type": "markdown",
   "metadata": {},
   "source": [
    "While it is possible to create special data containers for persistent data, I find it more straight forward to mount a directory from the host system into the container, and to save any output data on this mounted directory.\n",
    "\n",
    "## Mounting a directory from the host to be available in the container\n",
    "\n",
    "Let's create a new container to demonstrate this. We will use `cowsay` as the application we install in the container, and we want it to \"say\" something that comes from an input file (on the host system) and to produce output in the container, which should be saved to the host file system so we can make use of this when the container execution has completed."
   ]
  },
  {
   "cell_type": "code",
   "execution_count": 3,
   "metadata": {},
   "outputs": [
    {
     "name": "stdout",
     "output_type": "stream",
     "text": [
      "Overwriting Dockerfile\n"
     ]
    }
   ],
   "source": [
    "%%file Dockerfile\n",
    "FROM ubuntu:18.04\n",
    "\n",
    "RUN apt-get update \n",
    "RUN apt-get install -y cowsay\n",
    "\n",
    "# cowsay installs into /usr/games. Make avaible in PATH:\n",
    "RUN ln -s /usr/games/cowsay /usr/local/bin \n",
    "\n",
    "# create directory we use for input and output \n",
    "RUN mkdir /io\n",
    "\n",
    "# change into that direcotry\n",
    "WORKDIR /io"
   ]
  },
  {
   "cell_type": "code",
   "execution_count": 4,
   "metadata": {},
   "outputs": [
    {
     "name": "stdout",
     "output_type": "stream",
     "text": [
      "Sending build context to Docker daemon  163.3kB\n",
      "Step 1/6 : FROM ubuntu:18.04\n",
      " ---> cd6d8154f1e1\n",
      "Step 2/6 : RUN apt-get update\n",
      " ---> Using cache\n",
      " ---> 864c48282361\n",
      "Step 3/6 : RUN apt-get install -y cowsay\n",
      " ---> Using cache\n",
      " ---> 951b8495700a\n",
      "Step 4/6 : RUN ln -s /usr/games/cowsay /usr/local/bin\n",
      " ---> Using cache\n",
      " ---> 532aedd4e4e6\n",
      "Step 5/6 : RUN mkdir /io\n",
      " ---> Using cache\n",
      " ---> a9d42e44c301\n",
      "Step 6/6 : WORKDIR /io\n",
      " ---> Using cache\n",
      " ---> 426382c2da8b\n",
      "Successfully built 426382c2da8b\n",
      "Successfully tagged cowimage-mount:latest\n"
     ]
    }
   ],
   "source": [
    "!docker build -t cowimage-mount ."
   ]
  },
  {
   "cell_type": "markdown",
   "metadata": {},
   "source": [
    "Let's check that we start in `/io` if we use the container:"
   ]
  },
  {
   "cell_type": "code",
   "execution_count": 5,
   "metadata": {},
   "outputs": [
    {
     "name": "stdout",
     "output_type": "stream",
     "text": [
      "/io\r\n"
     ]
    }
   ],
   "source": [
    "!docker run cowimage-mount pwd"
   ]
  },
  {
   "cell_type": "markdown",
   "metadata": {},
   "source": [
    "Now we need to mount our local directory to `/io` when we call docker. Let's first create an itput data file:"
   ]
  },
  {
   "cell_type": "code",
   "execution_count": 6,
   "metadata": {},
   "outputs": [
    {
     "name": "stdout",
     "output_type": "stream",
     "text": [
      "Overwriting cow-input.txt\n"
     ]
    }
   ],
   "source": [
    "%%file cow-input.txt\n",
    "Hello from file"
   ]
  },
  {
   "cell_type": "markdown",
   "metadata": {},
   "source": [
    "Let's also make sure no file `cow-output.txt` is on the disk. (We create the file in the next command.)"
   ]
  },
  {
   "cell_type": "code",
   "execution_count": 7,
   "metadata": {
    "collapsed": true
   },
   "outputs": [],
   "source": [
    "!rm -f cow-output.txt"
   ]
  },
  {
   "cell_type": "code",
   "execution_count": 8,
   "metadata": {},
   "outputs": [],
   "source": [
    "!docker run -v `pwd`:/io cowimage-mount  cowsay `cat cow-input.txt` > cow-output.txt"
   ]
  },
  {
   "cell_type": "markdown",
   "metadata": {},
   "source": [
    "Let's first check that this has created our output file `cow-output.txt`, and that the file is available on the host system:"
   ]
  },
  {
   "cell_type": "code",
   "execution_count": 9,
   "metadata": {},
   "outputs": [
    {
     "name": "stdout",
     "output_type": "stream",
     "text": [
      "-rw-r--r--  1 fangohr  staff  181 Sep  8 21:40 cow-output.txt\r\n"
     ]
    }
   ],
   "source": [
    "!ls -l cow-output.txt"
   ]
  },
  {
   "cell_type": "markdown",
   "metadata": {},
   "source": [
    "The file exists. What does it contain?"
   ]
  },
  {
   "cell_type": "code",
   "execution_count": 10,
   "metadata": {},
   "outputs": [
    {
     "name": "stdout",
     "output_type": "stream",
     "text": [
      " _________________\r\n",
      "< Hello from file >\r\n",
      " -----------------\r\n",
      "        \\   ^__^\r\n",
      "         \\  (oo)\\_______\r\n",
      "            (__)\\       )\\/\\\r\n",
      "                ||----w |\r\n",
      "                ||     ||\r\n"
     ]
    }
   ],
   "source": [
    "!cat cow-output.txt"
   ]
  },
  {
   "cell_type": "markdown",
   "metadata": {},
   "source": [
    "\n",
    "This is good. We discuss all parts of the command line now.\n",
    "\n",
    "The `-v` option tells docker to mount a Volume. In particular, the notation `-v A:B` asks to mount the path `A` from the host file system to the path `B` in the container. As we would like to mount our current directory from the host, we use the `pwd` command (which stands for Print Working Directory). By enclosing `pwd` in backticks (\\`), the output of the `pwd` command is used to represent `A`.\n",
    "\n",
    "The path `B` to which we mount the directory is `/io`. Note that we have asked in the Dockerfile that the process in the container should start in this directory.\n",
    "\n"
   ]
  },
  {
   "cell_type": "markdown",
   "metadata": {},
   "source": [
    "The actual command to be executed within the container is \n",
    "```\n",
    "cowsay `cat cow-input.txt` > cow-output.txt\n",
    "```\n",
    "\n",
    "- `cowsay` is the name of the executable.\n",
    "- `cow-input.txt` is a file on the host file system, which is available within the container in `/io` because we mounted the directory\n",
    "- with `` `cat cow-input.txt` ``we, we take the content of the `cow-input.txt` file (which is `hello from file` as we have created the file earlier in this notebook), and pass this content to `cowsay`. As a result, the cow prints this in the speech bubble.\n",
    "- with `> cow-output.txt` we send the (standard) output from the process into the file `cow-output.txt`. As the file doesn't exist, it is created (in the container) in our directory `/io`) and as our host directory is mounted to `/io` in the container, the file is actually saved in the host directory. And therefore available after the docker container process has completed."
   ]
  }
 ],
 "metadata": {
  "kernelspec": {
   "display_name": "Python 3",
   "language": "python",
   "name": "python3"
  },
  "language_info": {
   "codemirror_mode": {
    "name": "ipython",
    "version": 3
   },
   "file_extension": ".py",
   "mimetype": "text/x-python",
   "name": "python",
   "nbconvert_exporter": "python",
   "pygments_lexer": "ipython3",
   "version": "3.6.0"
  }
 },
 "nbformat": 4,
 "nbformat_minor": 2
}
