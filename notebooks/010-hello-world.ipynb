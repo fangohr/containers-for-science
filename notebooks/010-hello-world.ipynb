{
 "cells": [
  {
   "cell_type": "markdown",
   "metadata": {},
   "source": [
    "# Hello World programme in container"
   ]
  },
  {
   "cell_type": "markdown",
   "metadata": {},
   "source": [
    "## Example 1: Executing a bash command inside an Ubuntu container"
   ]
  },
  {
   "cell_type": "markdown",
   "metadata": {},
   "source": [
    "First, we will *pull* the latest Ubuntu (long term support) image from [dockerhub.com](https://hub.docker.com/_/ubuntu/). If you have carried out this operation before, it will be very quick, otherwise it depends a little on the bandwidth of your Internet connection: "
   ]
  },
  {
   "cell_type": "code",
   "execution_count": 1,
   "metadata": {},
   "outputs": [
    {
     "name": "stdout",
     "output_type": "stream",
     "text": [
      "latest: Pulling from library/ubuntu\n",
      "Digest: sha256:de774a3145f7ca4f0bd144c7d4ffb2931e06634f11529653b23eba85aef8e378\n",
      "Status: Downloaded newer image for ubuntu:latest\n"
     ]
    }
   ],
   "source": [
    "# NBVAL_IGNORE_OUTPUT\n",
    "!docker pull ubuntu:latest"
   ]
  },
  {
   "cell_type": "markdown",
   "metadata": {},
   "source": [
    "Second, we can now execute commands inside that container. For example, the file `/etc/issue` contains information about the version of the Linux distribution. We use the unix command `cat` to conCATenate the contents of that file to the standard output:"
   ]
  },
  {
   "cell_type": "code",
   "execution_count": 2,
   "metadata": {},
   "outputs": [
    {
     "name": "stdout",
     "output_type": "stream",
     "text": [
      "Ubuntu 18.04.1 LTS \\n \\l\r\n",
      "\r\n"
     ]
    }
   ],
   "source": [
    "!docker run ubuntu:latest cat /etc/issue"
   ]
  },
  {
   "cell_type": "markdown",
   "metadata": {},
   "source": [
    "As you may guess, the structure of the docker command is \n",
    "- `docker`: the Docker application on your host system\n",
    "- `run`: the command for the docker application - we want to run an image\n",
    "- `ubuntu:latest` : the image that we want to start\n",
    "- all remaining arguments (here `cat /etc/issue`) are being executed inside the running container"
   ]
  },
  {
   "cell_type": "markdown",
   "metadata": {},
   "source": [
    "One way of 'writing' a container hello world program would be this:"
   ]
  },
  {
   "cell_type": "code",
   "execution_count": 3,
   "metadata": {},
   "outputs": [
    {
     "name": "stdout",
     "output_type": "stream",
     "text": [
      "Hello World\r\n"
     ]
    }
   ],
   "source": [
    "!docker run ubuntu:latest bash -c \"echo 'Hello World'\""
   ]
  },
  {
   "cell_type": "markdown",
   "metadata": {},
   "source": [
    "We have just executed the \"echo 'Hello World'\" command inside the Ubuntu Linux distribution container! We can check how large the image of the container is:"
   ]
  },
  {
   "cell_type": "code",
   "execution_count": 9,
   "metadata": {},
   "outputs": [
    {
     "name": "stdout",
     "output_type": "stream",
     "text": [
      "REPOSITORY          TAG                 IMAGE ID            CREATED             SIZE\r\n",
      "ubuntu              latest              cd6d8154f1e1        2 days ago          84.1MB\r\n"
     ]
    }
   ],
   "source": [
    "!docker images ubuntu:latest"
   ]
  }
 ],
 "metadata": {
  "anaconda-cloud": {},
  "kernelspec": {
   "display_name": "Python 3",
   "language": "python",
   "name": "python3"
  },
  "language_info": {
   "codemirror_mode": {
    "name": "ipython",
    "version": 3
   },
   "file_extension": ".py",
   "mimetype": "text/x-python",
   "name": "python",
   "nbconvert_exporter": "python",
   "pygments_lexer": "ipython3",
   "version": "3.6.0"
  }
 },
 "nbformat": 4,
 "nbformat_minor": 1
}
