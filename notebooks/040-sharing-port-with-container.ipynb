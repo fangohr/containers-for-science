{
 "cells": [
  {
   "cell_type": "markdown",
   "metadata": {},
   "source": [
    "# Connecting to a port in the container\n",
    "\n",
    "Another common use case is that we start some kind of long-running process in the container, and talk to it through a port. That process could be a Jupyter Notebook, for example. \n",
    "\n",
    "## Example http.server\n",
    "\n",
    "For demonstration purposes, we will use Python's in-built web server. To run it from the host, we could use"
   ]
  },
  {
   "cell_type": "code",
   "execution_count": 1,
   "metadata": {},
   "outputs": [
    {
     "name": "stdout",
     "output_type": "stream",
     "text": [
      "Serving HTTP on 0.0.0.0 port 8000 (http://0.0.0.0:8000/) ...\n",
      "127.0.0.1 - - [08/Sep/2018 21:41:27] \"GET / HTTP/1.1\" 200 -\n",
      "127.0.0.1 - - [08/Sep/2018 21:41:27] code 404, message File not found\n",
      "127.0.0.1 - - [08/Sep/2018 21:41:27] \"GET /favicon.ico HTTP/1.1\" 404 -\n",
      "127.0.0.1 - - [08/Sep/2018 21:41:31] \"GET / HTTP/1.1\" 200 -\n",
      "127.0.0.1 - - [08/Sep/2018 21:41:31] code 404, message File not found\n",
      "127.0.0.1 - - [08/Sep/2018 21:41:31] \"GET /favicon.ico HTTP/1.1\" 404 -\n",
      "127.0.0.1 - - [08/Sep/2018 21:41:34] \"GET / HTTP/1.1\" 200 -\n",
      "127.0.0.1 - - [08/Sep/2018 21:41:34] code 404, message File not found\n",
      "127.0.0.1 - - [08/Sep/2018 21:41:34] \"GET /favicon.ico HTTP/1.1\" 404 -\n",
      "^C\n",
      "\n",
      "Keyboard interrupt received, exiting.\n"
     ]
    }
   ],
   "source": [
    "# NBVAL_SKIP\n",
    "!python -m http.server"
   ]
  },
  {
   "cell_type": "markdown",
   "metadata": {},
   "source": [
    "This program will show the contents of the current file system in a webbrowser interface at port 8000 of this machine. So typically at one or some of these links http://127.0.0.1:8000 or http://localhost:8000 or http://0.0.0.0:8000)."
   ]
  },
  {
   "cell_type": "markdown",
   "metadata": {},
   "source": [
    "(If you have executed the above cell by pressing SHIFT+RETURN, you need to interrupt the http.server process to get the control back in the notebook. This can be done by choosing from the menu \"Kernel\" -> \"Interrupt\".)"
   ]
  },
  {
   "cell_type": "markdown",
   "metadata": {},
   "source": [
    "We will now create a container and run this server inside the container. We like to use a webbrowser on the host machine to inspect the files.\n",
    "\n",
    "First, we create the Dockerfile:"
   ]
  },
  {
   "cell_type": "code",
   "execution_count": 2,
   "metadata": {},
   "outputs": [
    {
     "name": "stdout",
     "output_type": "stream",
     "text": [
      "Overwriting Dockerfile\n"
     ]
    }
   ],
   "source": [
    "%%file Dockerfile\n",
    "FROM ubuntu:18.04\n",
    "\n",
    "RUN apt-get -y update\n",
    "RUN apt-get -y install python3\n",
    "\n",
    "CMD python3 -m http.server"
   ]
  },
  {
   "cell_type": "markdown",
   "metadata": {},
   "source": [
    "The last line starts the `http.server` when the container is run."
   ]
  },
  {
   "cell_type": "code",
   "execution_count": 3,
   "metadata": {},
   "outputs": [
    {
     "name": "stdout",
     "output_type": "stream",
     "text": [
      "Sending build context to Docker daemon  163.3kB\n",
      "Step 1/4 : FROM ubuntu:18.04\n",
      " ---> cd6d8154f1e1\n",
      "Step 2/4 : RUN apt-get -y update\n",
      " ---> Running in bd009d15a49b\n",
      "Get:1 http://archive.ubuntu.com/ubuntu bionic InRelease [242 kB]\n",
      "Get:2 http://archive.ubuntu.com/ubuntu bionic-updates InRelease [88.7 kB]\n",
      "Get:3 http://archive.ubuntu.com/ubuntu bionic-backports InRelease [74.6 kB]\n",
      "Get:4 http://security.ubuntu.com/ubuntu bionic-security InRelease [83.2 kB]\n",
      "Get:5 http://archive.ubuntu.com/ubuntu bionic/universe Sources [11.5 MB]\n",
      "Get:6 http://security.ubuntu.com/ubuntu bionic-security/universe Sources [17.4 kB]\n",
      "Get:7 http://security.ubuntu.com/ubuntu bionic-security/multiverse amd64 Packages [1363 B]\n",
      "Get:8 http://security.ubuntu.com/ubuntu bionic-security/universe amd64 Packages [69.0 kB]\n",
      "Get:9 http://security.ubuntu.com/ubuntu bionic-security/main amd64 Packages [203 kB]\n",
      "Get:10 http://archive.ubuntu.com/ubuntu bionic/universe amd64 Packages [11.3 MB]\n",
      "Get:11 http://archive.ubuntu.com/ubuntu bionic/multiverse amd64 Packages [186 kB]\n",
      "Get:12 http://archive.ubuntu.com/ubuntu bionic/restricted amd64 Packages [13.5 kB]\n",
      "Get:13 http://archive.ubuntu.com/ubuntu bionic/main amd64 Packages [1344 kB]\n",
      "Get:14 http://archive.ubuntu.com/ubuntu bionic-updates/universe Sources [70.4 kB]\n",
      "Get:15 http://archive.ubuntu.com/ubuntu bionic-updates/universe amd64 Packages [226 kB]\n",
      "Get:16 http://archive.ubuntu.com/ubuntu bionic-updates/multiverse amd64 Packages [3925 B]\n",
      "Get:17 http://archive.ubuntu.com/ubuntu bionic-updates/main amd64 Packages [401 kB]\n",
      "Get:18 http://archive.ubuntu.com/ubuntu bionic-backports/universe amd64 Packages [2807 B]\n",
      "Fetched 25.9 MB in 3s (7665 kB/s)\n",
      "Reading package lists...\n",
      "Removing intermediate container bd009d15a49b\n",
      " ---> 171f7e7d44c9\n",
      "Step 3/4 : RUN apt-get -y install python3\n",
      " ---> Running in 63358399b4f5\n",
      "Reading package lists...\n",
      "Building dependency tree...\n",
      "Reading state information...\n",
      "The following additional packages will be installed:\n",
      "  file libexpat1 libmagic-mgc libmagic1 libmpdec2 libpython3-stdlib\n",
      "  libpython3.6-minimal libpython3.6-stdlib libreadline7 libsqlite3-0 libssl1.1\n",
      "  mime-support python3-minimal python3.6 python3.6-minimal readline-common\n",
      "  xz-utils\n",
      "Suggested packages:\n",
      "  python3-doc python3-tk python3-venv python3.6-venv python3.6-doc binutils\n",
      "  binfmt-support readline-doc\n",
      "The following NEW packages will be installed:\n",
      "  file libexpat1 libmagic-mgc libmagic1 libmpdec2 libpython3-stdlib\n",
      "  libpython3.6-minimal libpython3.6-stdlib libreadline7 libsqlite3-0 libssl1.1\n",
      "  mime-support python3 python3-minimal python3.6 python3.6-minimal\n",
      "  readline-common xz-utils\n",
      "0 upgraded, 18 newly installed, 0 to remove and 1 not upgraded.\n",
      "Need to get 6184 kB of archives.\n",
      "After this operation, 33.4 MB of additional disk space will be used.\n",
      "Get:1 http://archive.ubuntu.com/ubuntu bionic-updates/main amd64 libssl1.1 amd64 1.1.0g-2ubuntu4.1 [1128 kB]\n",
      "Get:2 http://archive.ubuntu.com/ubuntu bionic/main amd64 libpython3.6-minimal amd64 3.6.5-3 [529 kB]\n",
      "Get:3 http://archive.ubuntu.com/ubuntu bionic/main amd64 libexpat1 amd64 2.2.5-3 [80.2 kB]\n",
      "Get:4 http://archive.ubuntu.com/ubuntu bionic/main amd64 python3.6-minimal amd64 3.6.5-3 [1425 kB]\n",
      "Get:5 http://archive.ubuntu.com/ubuntu bionic-updates/main amd64 python3-minimal amd64 3.6.5-3ubuntu1 [23.7 kB]\n",
      "Get:6 http://archive.ubuntu.com/ubuntu bionic/main amd64 mime-support all 3.60ubuntu1 [30.1 kB]\n",
      "Get:7 http://archive.ubuntu.com/ubuntu bionic/main amd64 libmpdec2 amd64 2.4.2-1ubuntu1 [84.1 kB]\n",
      "Get:8 http://archive.ubuntu.com/ubuntu bionic/main amd64 readline-common all 7.0-3 [52.9 kB]\n",
      "Get:9 http://archive.ubuntu.com/ubuntu bionic/main amd64 libreadline7 amd64 7.0-3 [124 kB]\n",
      "Get:10 http://archive.ubuntu.com/ubuntu bionic/main amd64 libsqlite3-0 amd64 3.22.0-1 [496 kB]\n",
      "Get:11 http://archive.ubuntu.com/ubuntu bionic/main amd64 libpython3.6-stdlib amd64 3.6.5-3 [1648 kB]\n",
      "Get:12 http://archive.ubuntu.com/ubuntu bionic/main amd64 python3.6 amd64 3.6.5-3 [186 kB]\n",
      "Get:13 http://archive.ubuntu.com/ubuntu bionic-updates/main amd64 libpython3-stdlib amd64 3.6.5-3ubuntu1 [7204 B]\n",
      "Get:14 http://archive.ubuntu.com/ubuntu bionic-updates/main amd64 python3 amd64 3.6.5-3ubuntu1 [10.2 kB]\n",
      "Get:15 http://archive.ubuntu.com/ubuntu bionic-updates/main amd64 libmagic-mgc amd64 1:5.32-2ubuntu0.1 [184 kB]\n",
      "Get:16 http://archive.ubuntu.com/ubuntu bionic-updates/main amd64 libmagic1 amd64 1:5.32-2ubuntu0.1 [68.4 kB]\n",
      "Get:17 http://archive.ubuntu.com/ubuntu bionic-updates/main amd64 file amd64 1:5.32-2ubuntu0.1 [22.1 kB]\n",
      "Get:18 http://archive.ubuntu.com/ubuntu bionic/main amd64 xz-utils amd64 5.2.2-1.3 [83.8 kB]\n",
      "\u001b[91mdebconf: delaying package configuration, since apt-utils is not installed\n",
      "\u001b[0mFetched 6184 kB in 1s (8824 kB/s)\n",
      "Selecting previously unselected package libssl1.1:amd64.\n",
      "(Reading database ... 4037 files and directories currently installed.)\n",
      "Preparing to unpack .../libssl1.1_1.1.0g-2ubuntu4.1_amd64.deb ...\n",
      "Unpacking libssl1.1:amd64 (1.1.0g-2ubuntu4.1) ...\n",
      "Selecting previously unselected package libpython3.6-minimal:amd64.\n",
      "Preparing to unpack .../libpython3.6-minimal_3.6.5-3_amd64.deb ...\n",
      "Unpacking libpython3.6-minimal:amd64 (3.6.5-3) ...\n",
      "Selecting previously unselected package libexpat1:amd64.\n",
      "Preparing to unpack .../libexpat1_2.2.5-3_amd64.deb ...\n",
      "Unpacking libexpat1:amd64 (2.2.5-3) ...\n",
      "Selecting previously unselected package python3.6-minimal.\n",
      "Preparing to unpack .../python3.6-minimal_3.6.5-3_amd64.deb ...\n",
      "Unpacking python3.6-minimal (3.6.5-3) ...\n",
      "Setting up libssl1.1:amd64 (1.1.0g-2ubuntu4.1) ...\n",
      "debconf: unable to initialize frontend: Dialog\n",
      "debconf: (TERM is not set, so the dialog frontend is not usable.)\n",
      "debconf: falling back to frontend: Readline\n",
      "debconf: unable to initialize frontend: Readline\n",
      "debconf: (Can't locate Term/ReadLine.pm in @INC (you may need to install the Term::ReadLine module) (@INC contains: /etc/perl /usr/local/lib/x86_64-linux-gnu/perl/5.26.1 /usr/local/share/perl/5.26.1 /usr/lib/x86_64-linux-gnu/perl5/5.26 /usr/share/perl5 /usr/lib/x86_64-linux-gnu/perl/5.26 /usr/share/perl/5.26 /usr/local/lib/site_perl /usr/lib/x86_64-linux-gnu/perl-base) at /usr/share/perl5/Debconf/FrontEnd/Readline.pm line 7.)\n",
      "debconf: falling back to frontend: Teletype\n",
      "Setting up libpython3.6-minimal:amd64 (3.6.5-3) ...\n",
      "Setting up libexpat1:amd64 (2.2.5-3) ...\n",
      "Setting up python3.6-minimal (3.6.5-3) ...\n",
      "Selecting previously unselected package python3-minimal.\n",
      "(Reading database ... 4292 files and directories currently installed.)\n",
      "Preparing to unpack .../0-python3-minimal_3.6.5-3ubuntu1_amd64.deb ...\n",
      "Unpacking python3-minimal (3.6.5-3ubuntu1) ...\n",
      "Selecting previously unselected package mime-support.\n",
      "Preparing to unpack .../1-mime-support_3.60ubuntu1_all.deb ...\n",
      "Unpacking mime-support (3.60ubuntu1) ...\n",
      "Selecting previously unselected package libmpdec2:amd64.\n",
      "Preparing to unpack .../2-libmpdec2_2.4.2-1ubuntu1_amd64.deb ...\n",
      "Unpacking libmpdec2:amd64 (2.4.2-1ubuntu1) ...\n",
      "Selecting previously unselected package readline-common.\n",
      "Preparing to unpack .../3-readline-common_7.0-3_all.deb ...\n",
      "Unpacking readline-common (7.0-3) ...\n",
      "Selecting previously unselected package libreadline7:amd64.\n",
      "Preparing to unpack .../4-libreadline7_7.0-3_amd64.deb ...\n",
      "Unpacking libreadline7:amd64 (7.0-3) ...\n",
      "Selecting previously unselected package libsqlite3-0:amd64.\n",
      "Preparing to unpack .../5-libsqlite3-0_3.22.0-1_amd64.deb ...\n",
      "Unpacking libsqlite3-0:amd64 (3.22.0-1) ...\n",
      "Selecting previously unselected package libpython3.6-stdlib:amd64.\n",
      "Preparing to unpack .../6-libpython3.6-stdlib_3.6.5-3_amd64.deb ...\n",
      "Unpacking libpython3.6-stdlib:amd64 (3.6.5-3) ...\n",
      "Selecting previously unselected package python3.6.\n",
      "Preparing to unpack .../7-python3.6_3.6.5-3_amd64.deb ...\n",
      "Unpacking python3.6 (3.6.5-3) ...\n",
      "Selecting previously unselected package libpython3-stdlib:amd64.\n",
      "Preparing to unpack .../8-libpython3-stdlib_3.6.5-3ubuntu1_amd64.deb ...\n",
      "Unpacking libpython3-stdlib:amd64 (3.6.5-3ubuntu1) ...\n",
      "Setting up python3-minimal (3.6.5-3ubuntu1) ...\n",
      "Selecting previously unselected package python3.\n",
      "(Reading database ... 4748 files and directories currently installed.)\n",
      "Preparing to unpack .../python3_3.6.5-3ubuntu1_amd64.deb ...\n",
      "Unpacking python3 (3.6.5-3ubuntu1) ...\n",
      "Selecting previously unselected package libmagic-mgc.\n",
      "Preparing to unpack .../libmagic-mgc_1%3a5.32-2ubuntu0.1_amd64.deb ...\n",
      "Unpacking libmagic-mgc (1:5.32-2ubuntu0.1) ...\n"
     ]
    },
    {
     "name": "stdout",
     "output_type": "stream",
     "text": [
      "Selecting previously unselected package libmagic1:amd64.\n",
      "Preparing to unpack .../libmagic1_1%3a5.32-2ubuntu0.1_amd64.deb ...\n",
      "Unpacking libmagic1:amd64 (1:5.32-2ubuntu0.1) ...\n",
      "Selecting previously unselected package file.\n",
      "Preparing to unpack .../file_1%3a5.32-2ubuntu0.1_amd64.deb ...\n",
      "Unpacking file (1:5.32-2ubuntu0.1) ...\n",
      "Selecting previously unselected package xz-utils.\n",
      "Preparing to unpack .../xz-utils_5.2.2-1.3_amd64.deb ...\n",
      "Unpacking xz-utils (5.2.2-1.3) ...\n",
      "Setting up readline-common (7.0-3) ...\n",
      "Setting up mime-support (3.60ubuntu1) ...\n",
      "Setting up libreadline7:amd64 (7.0-3) ...\n",
      "Setting up libmagic-mgc (1:5.32-2ubuntu0.1) ...\n",
      "Setting up libmagic1:amd64 (1:5.32-2ubuntu0.1) ...\n",
      "Processing triggers for libc-bin (2.27-3ubuntu1) ...\n",
      "Setting up xz-utils (5.2.2-1.3) ...\n",
      "update-alternatives: using /usr/bin/xz to provide /usr/bin/lzma (lzma) in auto mode\n",
      "update-alternatives: warning: skip creation of /usr/share/man/man1/lzma.1.gz because associated file /usr/share/man/man1/xz.1.gz (of link group lzma) doesn't exist\n",
      "update-alternatives: warning: skip creation of /usr/share/man/man1/unlzma.1.gz because associated file /usr/share/man/man1/unxz.1.gz (of link group lzma) doesn't exist\n",
      "update-alternatives: warning: skip creation of /usr/share/man/man1/lzcat.1.gz because associated file /usr/share/man/man1/xzcat.1.gz (of link group lzma) doesn't exist\n",
      "update-alternatives: warning: skip creation of /usr/share/man/man1/lzmore.1.gz because associated file /usr/share/man/man1/xzmore.1.gz (of link group lzma) doesn't exist\n",
      "update-alternatives: warning: skip creation of /usr/share/man/man1/lzless.1.gz because associated file /usr/share/man/man1/xzless.1.gz (of link group lzma) doesn't exist\n",
      "update-alternatives: warning: skip creation of /usr/share/man/man1/lzdiff.1.gz because associated file /usr/share/man/man1/xzdiff.1.gz (of link group lzma) doesn't exist\n",
      "update-alternatives: warning: skip creation of /usr/share/man/man1/lzcmp.1.gz because associated file /usr/share/man/man1/xzcmp.1.gz (of link group lzma) doesn't exist\n",
      "update-alternatives: warning: skip creation of /usr/share/man/man1/lzgrep.1.gz because associated file /usr/share/man/man1/xzgrep.1.gz (of link group lzma) doesn't exist\n",
      "update-alternatives: warning: skip creation of /usr/share/man/man1/lzegrep.1.gz because associated file /usr/share/man/man1/xzegrep.1.gz (of link group lzma) doesn't exist\n",
      "update-alternatives: warning: skip creation of /usr/share/man/man1/lzfgrep.1.gz because associated file /usr/share/man/man1/xzfgrep.1.gz (of link group lzma) doesn't exist\n",
      "Setting up libsqlite3-0:amd64 (3.22.0-1) ...\n",
      "Setting up libmpdec2:amd64 (2.4.2-1ubuntu1) ...\n",
      "Setting up libpython3.6-stdlib:amd64 (3.6.5-3) ...\n",
      "Setting up python3.6 (3.6.5-3) ...\n",
      "Setting up file (1:5.32-2ubuntu0.1) ...\n",
      "Setting up libpython3-stdlib:amd64 (3.6.5-3ubuntu1) ...\n",
      "Setting up python3 (3.6.5-3ubuntu1) ...\n",
      "running python rtupdate hooks for python3.6...\n",
      "running python post-rtupdate hooks for python3.6...\n",
      "Processing triggers for libc-bin (2.27-3ubuntu1) ...\n",
      "Removing intermediate container 63358399b4f5\n",
      " ---> 1e9c6b97586e\n",
      "Step 4/4 : CMD python3 -m http.server\n",
      " ---> Running in cbe4f046ed6e\n",
      "Removing intermediate container cbe4f046ed6e\n",
      " ---> e5d48bb20260\n",
      "Successfully built e5d48bb20260\n",
      "Successfully tagged portdemo:latest\n"
     ]
    }
   ],
   "source": [
    "#NBVAL_IGNORE_OUTPUT\n",
    "!docker build -t portdemo ."
   ]
  },
  {
   "cell_type": "markdown",
   "metadata": {},
   "source": [
    "We now need to export the port 8000 in the container. We can do this using:"
   ]
  },
  {
   "cell_type": "code",
   "execution_count": 4,
   "metadata": {},
   "outputs": [
    {
     "name": "stdout",
     "output_type": "stream",
     "text": [
      "^C\r\n"
     ]
    }
   ],
   "source": [
    "#NBVAL_SKIP\n",
    "!docker run -p 8123:8000 portdemo"
   ]
  },
  {
   "cell_type": "markdown",
   "metadata": {},
   "source": [
    "The numbers `8123:8000` mean that the internal port (8000) of the container should be connected to the port (8123) on the host system.\n",
    "\n",
    "Once the above command is executing, we should be able to browse the file system in the container by going to the link http://localhost:8123 (or http://127.0.0.1:8123 or http://0.0.0.0:8123) on the host system. \n",
    "\n",
    "We could have mapped port 8000 in the container to port 8000 on the host as well (`-p 8000:8000`).\n",
    "\n",
    "As before, to stop the process, select `Kernel->Interrupt`."
   ]
  },
  {
   "cell_type": "markdown",
   "metadata": {},
   "source": [
    "## Jupyter Notebook"
   ]
  },
  {
   "cell_type": "markdown",
   "metadata": {},
   "source": [
    "A common application of exposing ports is to install computational or data analysis software inside the container, and to control it from a Jupyter notebook running inside the container, but to use a webbrowser from the host system to interact with the notebook. In that case, the above example of exposing the port is in principle the right way to go, too. However, as this is a common usecase, there are a number of prepared Dockerfiles to install the notebook inside the container available at https://github.com/jupyter/docker-stacks, so that one can start the Dockerfile with `FROM jupyter/...`, (instead of `FROM ubuntu/...`) and in this way build on the Dockerfiles that the Jupyter team provides already.\n",
    "\n",
    "The container image for https://github.com/jupyter/docker-stacks/tree/master/scipy-notebook might be a good starting point for work based on the Scientific Python stack."
   ]
  }
 ],
 "metadata": {
  "kernelspec": {
   "display_name": "Python 3",
   "language": "python",
   "name": "python3"
  },
  "language_info": {
   "codemirror_mode": {
    "name": "ipython",
    "version": 3
   },
   "file_extension": ".py",
   "mimetype": "text/x-python",
   "name": "python",
   "nbconvert_exporter": "python",
   "pygments_lexer": "ipython3",
   "version": "3.6.0"
  }
 },
 "nbformat": 4,
 "nbformat_minor": 2
}
