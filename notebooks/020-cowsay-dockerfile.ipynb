{
 "cells": [
  {
   "cell_type": "markdown",
   "metadata": {},
   "source": [
    "# Creating our own docker container"
   ]
  },
  {
   "cell_type": "markdown",
   "metadata": {},
   "source": [
    "To create our own container images, we need to write a file that defines what should be inside the environment. The contents are similar to a bash script, although the syntax is determined by the application to run the container. Here we use docker, and the file is (by default) called `Dockerfile`:"
   ]
  },
  {
   "cell_type": "code",
   "execution_count": 1,
   "metadata": {},
   "outputs": [
    {
     "name": "stdout",
     "output_type": "stream",
     "text": [
      "Overwriting Dockerfile\n"
     ]
    }
   ],
   "source": [
    "%%file Dockerfile\n",
    "FROM ubuntu:latest\n",
    "\n",
    "RUN apt-get update \n",
    "RUN apt-get install -y cowsay\n",
    "\n",
    "# cowsay installs into /usr/games. Make avaible in PATH:\n",
    "RUN ln -s /usr/games/cowsay /usr/local/bin "
   ]
  },
  {
   "cell_type": "markdown",
   "metadata": {},
   "source": [
    "Build a docker image based on the `Dockerfile` above (in the current directory). Call it `cowimage`."
   ]
  },
  {
   "cell_type": "code",
   "execution_count": 2,
   "metadata": {},
   "outputs": [
    {
     "name": "stdout",
     "output_type": "stream",
     "text": [
      "Sending build context to Docker daemon    150kB\n",
      "Step 1/4 : FROM ubuntu:latest\n",
      " ---> cd6d8154f1e1\n",
      "Step 2/4 : RUN apt-get update\n",
      " ---> Running in 94ff97dc933d\n",
      "Get:1 http://archive.ubuntu.com/ubuntu bionic InRelease [242 kB]\n",
      "Get:2 http://archive.ubuntu.com/ubuntu bionic-updates InRelease [88.7 kB]\n",
      "Get:3 http://archive.ubuntu.com/ubuntu bionic-backports InRelease [74.6 kB]\n",
      "Get:4 http://security.ubuntu.com/ubuntu bionic-security InRelease [83.2 kB]\n",
      "Get:5 http://archive.ubuntu.com/ubuntu bionic/universe Sources [11.5 MB]\n",
      "Get:6 http://security.ubuntu.com/ubuntu bionic-security/universe Sources [17.4 kB]\n",
      "Get:7 http://security.ubuntu.com/ubuntu bionic-security/main amd64 Packages [203 kB]\n",
      "Get:8 http://security.ubuntu.com/ubuntu bionic-security/multiverse amd64 Packages [1363 B]\n",
      "Get:9 http://security.ubuntu.com/ubuntu bionic-security/universe amd64 Packages [69.0 kB]\n",
      "Get:10 http://archive.ubuntu.com/ubuntu bionic/main amd64 Packages [1344 kB]\n",
      "Get:11 http://archive.ubuntu.com/ubuntu bionic/multiverse amd64 Packages [186 kB]\n",
      "Get:12 http://archive.ubuntu.com/ubuntu bionic/universe amd64 Packages [11.3 MB]\n",
      "Get:13 http://archive.ubuntu.com/ubuntu bionic/restricted amd64 Packages [13.5 kB]\n",
      "Get:14 http://archive.ubuntu.com/ubuntu bionic-updates/universe Sources [70.4 kB]\n",
      "Get:15 http://archive.ubuntu.com/ubuntu bionic-updates/universe amd64 Packages [226 kB]\n",
      "Get:16 http://archive.ubuntu.com/ubuntu bionic-updates/main amd64 Packages [401 kB]\n",
      "Get:17 http://archive.ubuntu.com/ubuntu bionic-updates/multiverse amd64 Packages [3925 B]\n",
      "Get:18 http://archive.ubuntu.com/ubuntu bionic-backports/universe amd64 Packages [2807 B]\n",
      "Fetched 25.9 MB in 4s (6374 kB/s)\n",
      "Reading package lists...\n",
      "Removing intermediate container 94ff97dc933d\n",
      " ---> 864c48282361\n",
      "Step 3/4 : RUN apt-get install -y cowsay\n",
      " ---> Running in 74d8be92f3c3\n",
      "Reading package lists...\n",
      "Building dependency tree...\n",
      "Reading state information...\n",
      "The following additional packages will be installed:\n",
      "  libgdbm-compat4 libgdbm5 libperl5.26 libtext-charwidth-perl netbase perl\n",
      "  perl-modules-5.26\n",
      "Suggested packages:\n",
      "  filters cowsay-off gdbm-l10n perl-doc libterm-readline-gnu-perl\n",
      "  | libterm-readline-perl-perl make\n",
      "The following NEW packages will be installed:\n",
      "  cowsay libgdbm-compat4 libgdbm5 libperl5.26 libtext-charwidth-perl netbase\n",
      "  perl perl-modules-5.26\n",
      "0 upgraded, 8 newly installed, 0 to remove and 1 not upgraded.\n",
      "Need to get 6567 kB of archives.\n",
      "After this operation, 41.7 MB of additional disk space will be used.\n",
      "Get:1 http://archive.ubuntu.com/ubuntu bionic-updates/main amd64 perl-modules-5.26 all 5.26.1-6ubuntu0.2 [2762 kB]\n",
      "Get:2 http://archive.ubuntu.com/ubuntu bionic/main amd64 libgdbm5 amd64 1.14.1-6 [26.0 kB]\n",
      "Get:3 http://archive.ubuntu.com/ubuntu bionic/main amd64 libgdbm-compat4 amd64 1.14.1-6 [6084 B]\n",
      "Get:4 http://archive.ubuntu.com/ubuntu bionic-updates/main amd64 libperl5.26 amd64 5.26.1-6ubuntu0.2 [3531 kB]\n",
      "Get:5 http://archive.ubuntu.com/ubuntu bionic-updates/main amd64 perl amd64 5.26.1-6ubuntu0.2 [201 kB]\n",
      "Get:6 http://archive.ubuntu.com/ubuntu bionic/main amd64 libtext-charwidth-perl amd64 0.04-7.1 [9492 B]\n",
      "Get:7 http://archive.ubuntu.com/ubuntu bionic/main amd64 netbase all 5.4 [12.7 kB]\n",
      "Get:8 http://archive.ubuntu.com/ubuntu bionic/universe amd64 cowsay all 3.03+dfsg2-4 [17.7 kB]\n",
      "\u001b[91mdebconf: delaying package configuration, since apt-utils is not installed\n",
      "\u001b[0mFetched 6567 kB in 1s (7811 kB/s)\n",
      "Selecting previously unselected package perl-modules-5.26.\n",
      "(Reading database ... 4037 files and directories currently installed.)\n",
      "Preparing to unpack .../0-perl-modules-5.26_5.26.1-6ubuntu0.2_all.deb ...\n",
      "Unpacking perl-modules-5.26 (5.26.1-6ubuntu0.2) ...\n",
      "Selecting previously unselected package libgdbm5:amd64.\n",
      "Preparing to unpack .../1-libgdbm5_1.14.1-6_amd64.deb ...\n",
      "Unpacking libgdbm5:amd64 (1.14.1-6) ...\n",
      "Selecting previously unselected package libgdbm-compat4:amd64.\n",
      "Preparing to unpack .../2-libgdbm-compat4_1.14.1-6_amd64.deb ...\n",
      "Unpacking libgdbm-compat4:amd64 (1.14.1-6) ...\n",
      "Selecting previously unselected package libperl5.26:amd64.\n",
      "Preparing to unpack .../3-libperl5.26_5.26.1-6ubuntu0.2_amd64.deb ...\n",
      "Unpacking libperl5.26:amd64 (5.26.1-6ubuntu0.2) ...\n",
      "Selecting previously unselected package perl.\n",
      "Preparing to unpack .../4-perl_5.26.1-6ubuntu0.2_amd64.deb ...\n",
      "Unpacking perl (5.26.1-6ubuntu0.2) ...\n",
      "Selecting previously unselected package libtext-charwidth-perl.\n",
      "Preparing to unpack .../5-libtext-charwidth-perl_0.04-7.1_amd64.deb ...\n",
      "Unpacking libtext-charwidth-perl (0.04-7.1) ...\n",
      "Selecting previously unselected package netbase.\n",
      "Preparing to unpack .../6-netbase_5.4_all.deb ...\n",
      "Unpacking netbase (5.4) ...\n",
      "Selecting previously unselected package cowsay.\n",
      "Preparing to unpack .../7-cowsay_3.03+dfsg2-4_all.deb ...\n",
      "Unpacking cowsay (3.03+dfsg2-4) ...\n",
      "Setting up perl-modules-5.26 (5.26.1-6ubuntu0.2) ...\n",
      "Setting up libgdbm5:amd64 (1.14.1-6) ...\n",
      "Processing triggers for libc-bin (2.27-3ubuntu1) ...\n",
      "Setting up libtext-charwidth-perl (0.04-7.1) ...\n",
      "Setting up libgdbm-compat4:amd64 (1.14.1-6) ...\n",
      "Setting up netbase (5.4) ...\n",
      "Setting up libperl5.26:amd64 (5.26.1-6ubuntu0.2) ...\n",
      "Setting up perl (5.26.1-6ubuntu0.2) ...\n",
      "Setting up cowsay (3.03+dfsg2-4) ...\n",
      "Processing triggers for libc-bin (2.27-3ubuntu1) ...\n",
      "Removing intermediate container 74d8be92f3c3\n",
      " ---> 951b8495700a\n",
      "Step 4/4 : RUN ln -s /usr/games/cowsay /usr/local/bin\n",
      " ---> Running in 7e1aeea049be\n",
      "Removing intermediate container 7e1aeea049be\n",
      " ---> 532aedd4e4e6\n",
      "Successfully built 532aedd4e4e6\n",
      "Successfully tagged cowimage:latest\n"
     ]
    }
   ],
   "source": [
    "#NBVAL_IGNORE_OUTPUT\n",
    "!docker build -t cowimage ."
   ]
  },
  {
   "cell_type": "markdown",
   "metadata": {},
   "source": [
    "Then we can use this image to run commands, for example cowsay:"
   ]
  },
  {
   "cell_type": "code",
   "execution_count": 3,
   "metadata": {},
   "outputs": [
    {
     "name": "stdout",
     "output_type": "stream",
     "text": [
      " _______\r\n",
      "< Hello >\r\n",
      " -------\r\n",
      "        \\   ^__^\r\n",
      "         \\  (oo)\\_______\r\n",
      "            (__)\\       )\\/\\\r\n",
      "                ||----w |\r\n",
      "                ||     ||\r\n"
     ]
    }
   ],
   "source": [
    "!docker run cowimage cowsay \"Hello\""
   ]
  },
  {
   "cell_type": "markdown",
   "metadata": {
    "collapsed": true
   },
   "source": [
    "## Exporting an image to a file\n",
    "Often, having a Dockefile as shown above is sufficient to create a computational environment, in particular if all support libraries and the main code itself are open source, and ideally available online.\n",
    "\n",
    "In cases where we need to transport a created container image, we can use the following commands:"
   ]
  },
  {
   "cell_type": "code",
   "execution_count": 4,
   "metadata": {
    "collapsed": true
   },
   "outputs": [],
   "source": [
    "!docker save cowimage > cowimage.tar"
   ]
  },
  {
   "cell_type": "code",
   "execution_count": 5,
   "metadata": {},
   "outputs": [
    {
     "name": "stdout",
     "output_type": "stream",
     "text": [
      "-rw-r--r--  1 fangohr  staff   163M Sep  8 21:36 cowimage.tar\r\n"
     ]
    }
   ],
   "source": [
    "!ls -hl cowimage.tar"
   ]
  },
  {
   "cell_type": "markdown",
   "metadata": {},
   "source": [
    "It's worth trying to compress the image:"
   ]
  },
  {
   "cell_type": "code",
   "execution_count": 6,
   "metadata": {},
   "outputs": [],
   "source": [
    "!gzip -f cowimage.tar"
   ]
  },
  {
   "cell_type": "code",
   "execution_count": 7,
   "metadata": {},
   "outputs": [
    {
     "name": "stdout",
     "output_type": "stream",
     "text": [
      "-rw-r--r--  1 fangohr  staff    69M Sep  8 21:36 cowimage.tar.gz\r\n"
     ]
    }
   ],
   "source": [
    "!ls -hl cowimage.tar.gz"
   ]
  },
  {
   "cell_type": "markdown",
   "metadata": {},
   "source": [
    "## Importing an image from a file"
   ]
  },
  {
   "cell_type": "code",
   "execution_count": 8,
   "metadata": {},
   "outputs": [
    {
     "name": "stdout",
     "output_type": "stream",
     "text": [
      "Loaded image: cowimage:latest\r\n"
     ]
    }
   ],
   "source": [
    "!docker load < cowimage.tar.gz"
   ]
  },
  {
   "cell_type": "markdown",
   "metadata": {
    "collapsed": true
   },
   "source": [
    "Let's tidy up and remove the large file we just created:"
   ]
  },
  {
   "cell_type": "code",
   "execution_count": 9,
   "metadata": {
    "collapsed": true
   },
   "outputs": [],
   "source": [
    "!rm -f cowimage.tar.gz"
   ]
  }
 ],
 "metadata": {
  "anaconda-cloud": {},
  "kernelspec": {
   "display_name": "Python 3",
   "language": "python",
   "name": "python3"
  },
  "language_info": {
   "codemirror_mode": {
    "name": "ipython",
    "version": 3
   },
   "file_extension": ".py",
   "mimetype": "text/x-python",
   "name": "python",
   "nbconvert_exporter": "python",
   "pygments_lexer": "ipython3",
   "version": "3.6.0"
  }
 },
 "nbformat": 4,
 "nbformat_minor": 1
}
