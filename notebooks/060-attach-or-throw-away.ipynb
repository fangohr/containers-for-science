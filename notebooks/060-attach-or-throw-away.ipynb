{
 "cells": [
  {
   "cell_type": "markdown",
   "metadata": {},
   "source": [
    "# Re-connect to container, or throw away"
   ]
  },
  {
   "cell_type": "markdown",
   "metadata": {},
   "source": [
    "We can use the computational environment in a container in many ways, including:\n",
    "\n",
    "* Option 1: to execute one command that produces some output, and writes this to a mounted folder (so the data is available on the host file system). We don't need the computational environment any more (all our output is on the host file system). If we need to run the command again, we can start with a fresh container again.\n",
    "\n",
    "* Option 2: to start a container as a process, to which we can connect repeatedly to carry out tasks inside the same container instance. This is known as running the container in a \"detached\" state.\n",
    "\n",
    "In this notebook, we will explore both options.\n"
   ]
  },
  {
   "cell_type": "markdown",
   "metadata": {},
   "source": [
    "## Opion 1: Run command in container, then throw container away\n",
    "\n",
    "This is what we have done in previous examples. \n",
    "\n",
    "However, there is one detail that I'd like to introduce now: we executed our command, for example using ``docker run cowimage cowsay \"Hello\"``. Every time we run this command, docker saves the state of the container after the execution of the command, and if we really wanted, we could connect to it and carry on working with this container.\n",
    "\n",
    "Here is some evidence. First, let's show that a new container is created every time we run the command:"
   ]
  },
  {
   "cell_type": "code",
   "execution_count": 1,
   "metadata": {},
   "outputs": [
    {
     "name": "stdout",
     "output_type": "stream",
     "text": [
      " _________\r\n",
      "< Hello 1 >\r\n",
      " ---------\r\n",
      "        \\   ^__^\r\n",
      "         \\  (oo)\\_______\r\n",
      "            (__)\\       )\\/\\\r\n",
      "                ||----w |\r\n",
      "                ||     ||\r\n"
     ]
    }
   ],
   "source": [
    "!docker run cowimage cowsay \"Hello 1\""
   ]
  },
  {
   "cell_type": "code",
   "execution_count": 2,
   "metadata": {},
   "outputs": [
    {
     "name": "stdout",
     "output_type": "stream",
     "text": [
      " _________\r\n",
      "< Hello 2 >\r\n",
      " ---------\r\n",
      "        \\   ^__^\r\n",
      "         \\  (oo)\\_______\r\n",
      "            (__)\\       )\\/\\\r\n",
      "                ||----w |\r\n",
      "                ||     ||\r\n"
     ]
    }
   ],
   "source": [
    "!docker run cowimage cowsay \"Hello 2\""
   ]
  },
  {
   "cell_type": "markdown",
   "metadata": {},
   "source": [
    "Now we ask docker to display the directory (``ls``) of the ``last 2`` containers that have been created:"
   ]
  },
  {
   "cell_type": "code",
   "execution_count": 3,
   "metadata": {},
   "outputs": [
    {
     "name": "stdout",
     "output_type": "stream",
     "text": [
      "CONTAINER ID        IMAGE               COMMAND              CREATED             STATUS                      PORTS               NAMES\r\n",
      "d3d165e8858c        cowimage            \"cowsay 'Hello 2'\"   13 seconds ago      Exited (0) 12 seconds ago                       admiring_brown\r\n",
      "416e170dc3ad        cowimage            \"cowsay 'Hello 1'\"   15 seconds ago      Exited (0) 13 seconds ago                       trusting_williams\r\n"
     ]
    }
   ],
   "source": [
    "!docker container ls --last 2"
   ]
  },
  {
   "cell_type": "markdown",
   "metadata": {},
   "source": [
    "We can see that there are two images, and by looking at the command and the time ago, we can see that we have just created those two containers."
   ]
  },
  {
   "cell_type": "markdown",
   "metadata": {},
   "source": [
    "We can delete those using the ``docker container rm`` command, but need to provide the ``CONTAINER ID`` as an argument. The ``CONTAINER ID`` is given in the first column of the output above. There is a switch ``-q`` to only return that:"
   ]
  },
  {
   "cell_type": "code",
   "execution_count": 4,
   "metadata": {
    "scrolled": false
   },
   "outputs": [
    {
     "name": "stdout",
     "output_type": "stream",
     "text": [
      "d3d165e8858c\r\n",
      "416e170dc3ad\r\n"
     ]
    }
   ],
   "source": [
    "!docker container ls --last 2 -q"
   ]
  },
  {
   "cell_type": "markdown",
   "metadata": {},
   "source": [
    "With this information, we can delete those containers, for example:"
   ]
  },
  {
   "cell_type": "code",
   "execution_count": 5,
   "metadata": {},
   "outputs": [
    {
     "name": "stdout",
     "output_type": "stream",
     "text": [
      "d3d165e8858c\r\n",
      "416e170dc3ad\r\n"
     ]
    }
   ],
   "source": [
    "!docker container rm $(docker container ls --last 2 -q)"
   ]
  },
  {
   "cell_type": "markdown",
   "metadata": {},
   "source": [
    "Let's check they have disappeared:"
   ]
  },
  {
   "cell_type": "code",
   "execution_count": 6,
   "metadata": {},
   "outputs": [
    {
     "name": "stdout",
     "output_type": "stream",
     "text": [
      "CONTAINER ID        IMAGE               COMMAND             CREATED             STATUS              PORTS               NAMES\r\n"
     ]
    }
   ],
   "source": [
    "!docker container ls --last 2"
   ]
  },
  {
   "cell_type": "markdown",
   "metadata": {},
   "source": [
    "## The `run --rm` option\n",
    "\n",
    "For one-time execution of a command, we can use the ``--rm`` option to run, which means that the container will be destroyed as soon as our use of it has stopped:"
   ]
  },
  {
   "cell_type": "code",
   "execution_count": 7,
   "metadata": {},
   "outputs": [
    {
     "name": "stdout",
     "output_type": "stream",
     "text": [
      "CONTAINER ID        IMAGE               COMMAND             CREATED             STATUS              PORTS               NAMES\r\n"
     ]
    }
   ],
   "source": [
    "!docker container ls --last 1"
   ]
  },
  {
   "cell_type": "code",
   "execution_count": 8,
   "metadata": {},
   "outputs": [
    {
     "name": "stdout",
     "output_type": "stream",
     "text": [
      " _________\r\n",
      "< Hello 3 >\r\n",
      " ---------\r\n",
      "        \\   ^__^\r\n",
      "         \\  (oo)\\_______\r\n",
      "            (__)\\       )\\/\\\r\n",
      "                ||----w |\r\n",
      "                ||     ||\r\n"
     ]
    }
   ],
   "source": [
    "!docker run --rm cowimage cowsay \"Hello 3\""
   ]
  },
  {
   "cell_type": "code",
   "execution_count": 9,
   "metadata": {},
   "outputs": [
    {
     "name": "stdout",
     "output_type": "stream",
     "text": [
      "CONTAINER ID        IMAGE               COMMAND             CREATED             STATUS              PORTS               NAMES\r\n"
     ]
    }
   ],
   "source": [
    "!docker container ls --last 1"
   ]
  },
  {
   "cell_type": "markdown",
   "metadata": {},
   "source": [
    "## Option 2: attach to running container\n",
    "\n",
    "### Start the container in detached mode using ``run -d``"
   ]
  },
  {
   "cell_type": "markdown",
   "metadata": {},
   "source": [
    "To demonstrate this, we start a ``bash`` process in our container. The ``-d`` switch means to Detach the container, meaning that it will run it the background. The ``-t`` switch is necessary to attach a pseudo terminal to the ``bash`` command. The return value is the ID of the container. "
   ]
  },
  {
   "cell_type": "code",
   "execution_count": 10,
   "metadata": {},
   "outputs": [
    {
     "name": "stdout",
     "output_type": "stream",
     "text": [
      "6ba4f1e46f452b8be22ba86531b2307f3799c718ee8865149d320660cbf70924\r\n"
     ]
    }
   ],
   "source": [
    "!docker run -d -t cowimage bash"
   ]
  },
  {
   "cell_type": "markdown",
   "metadata": {},
   "source": [
    "For this demonstration, it is convenient to know the name of the container in a variable. We thus use Jupyter Notebook python magic and save the output from the ``!docker ...`` command in the variable ``output``:"
   ]
  },
  {
   "cell_type": "code",
   "execution_count": 11,
   "metadata": {
    "collapsed": true
   },
   "outputs": [],
   "source": [
    "output = !docker run -d -t cowimage bash"
   ]
  },
  {
   "cell_type": "markdown",
   "metadata": {},
   "source": [
    "Turns out that ``output`` is a list:"
   ]
  },
  {
   "cell_type": "code",
   "execution_count": 12,
   "metadata": {},
   "outputs": [
    {
     "data": {
      "text/plain": [
       "['227518a5658159522c7f377cd45cd92782aff361d0c07a580cb513bcc660e927']"
      ]
     },
     "execution_count": 12,
     "metadata": {},
     "output_type": "execute_result"
    }
   ],
   "source": [
    "output"
   ]
  },
  {
   "cell_type": "markdown",
   "metadata": {},
   "source": [
    "So we take the first element to be able to refer to the container ID:"
   ]
  },
  {
   "cell_type": "code",
   "execution_count": 13,
   "metadata": {
    "collapsed": true
   },
   "outputs": [],
   "source": [
    "ID = output[0]"
   ]
  },
  {
   "cell_type": "code",
   "execution_count": 14,
   "metadata": {},
   "outputs": [
    {
     "data": {
      "text/plain": [
       "'227518a5658159522c7f377cd45cd92782aff361d0c07a580cb513bcc660e927'"
      ]
     },
     "execution_count": 14,
     "metadata": {},
     "output_type": "execute_result"
    }
   ],
   "source": [
    "ID"
   ]
  },
  {
   "cell_type": "markdown",
   "metadata": {},
   "source": [
    "Let's check that the container is running:"
   ]
  },
  {
   "cell_type": "code",
   "execution_count": 15,
   "metadata": {},
   "outputs": [
    {
     "name": "stdout",
     "output_type": "stream",
     "text": [
      "CONTAINER ID        IMAGE               COMMAND             CREATED             STATUS              PORTS               NAMES\r\n",
      "227518a56581        cowimage            \"bash\"              7 seconds ago       Up 6 seconds                            stupefied_elbakyan\r\n"
     ]
    }
   ],
   "source": [
    "!docker container ls --last 1"
   ]
  },
  {
   "cell_type": "markdown",
   "metadata": {},
   "source": [
    "As we have stored the name of the container in the variable ``ID``, we can pass the value of the variable to the ``!docker`` command using ``$ID``. Here is an example, asking the container for the current date and time (in its timezone):"
   ]
  },
  {
   "cell_type": "code",
   "execution_count": 16,
   "metadata": {},
   "outputs": [
    {
     "name": "stdout",
     "output_type": "stream",
     "text": [
      "Sun Sep  9 06:55:49 UTC 2018\r\n"
     ]
    }
   ],
   "source": [
    "!docker exec $ID date"
   ]
  },
  {
   "cell_type": "markdown",
   "metadata": {},
   "source": [
    "### Execute arbitrary commands in the running container using ``exec``"
   ]
  },
  {
   "cell_type": "markdown",
   "metadata": {},
   "source": [
    "Here is the plan: using subsequent commands, we show the files in /tmp in the container, create a file in the container in /tmp, then confirm it exists, then stop the container, then start the container again, and confirm the file is still there."
   ]
  },
  {
   "cell_type": "markdown",
   "metadata": {},
   "source": [
    "Confirm there are no files in the ``/tmp/`` directory in the container:"
   ]
  },
  {
   "cell_type": "code",
   "execution_count": 17,
   "metadata": {},
   "outputs": [
    {
     "name": "stdout",
     "output_type": "stream",
     "text": [
      "total 0\r\n"
     ]
    }
   ],
   "source": [
    "!docker exec $ID ls -l /tmp\n"
   ]
  },
  {
   "cell_type": "markdown",
   "metadata": {},
   "source": [
    "Now we create a file:"
   ]
  },
  {
   "cell_type": "code",
   "execution_count": 18,
   "metadata": {},
   "outputs": [],
   "source": [
    "!docker exec $ID touch /tmp/my-file.txt"
   ]
  },
  {
   "cell_type": "markdown",
   "metadata": {},
   "source": [
    "We confirm the file exists:"
   ]
  },
  {
   "cell_type": "code",
   "execution_count": 19,
   "metadata": {},
   "outputs": [
    {
     "name": "stdout",
     "output_type": "stream",
     "text": [
      "total 0\r\n",
      "-rw-r--r-- 1 root root 0 Sep  9 06:56 my-file.txt\r\n"
     ]
    }
   ],
   "source": [
    "!docker exec $ID ls -l /tmp"
   ]
  },
  {
   "cell_type": "markdown",
   "metadata": {},
   "source": [
    "As we have seen earlier, carrying out the same sequence of commands using ``run`` instead of ``exec`` would not work: as the second ``run`` command will start from the original docker *image* again and create a new container for the execution."
   ]
  },
  {
   "cell_type": "markdown",
   "metadata": {},
   "source": [
    "We can also stop our running container using ``stop``:"
   ]
  },
  {
   "cell_type": "code",
   "execution_count": 20,
   "metadata": {},
   "outputs": [
    {
     "name": "stdout",
     "output_type": "stream",
     "text": [
      "227518a5658159522c7f377cd45cd92782aff361d0c07a580cb513bcc660e927\r\n"
     ]
    }
   ],
   "source": [
    "!docker stop $ID"
   ]
  },
  {
   "cell_type": "markdown",
   "metadata": {},
   "source": [
    "We cannot execute further commands in this container because it is stopped:"
   ]
  },
  {
   "cell_type": "code",
   "execution_count": 21,
   "metadata": {},
   "outputs": [
    {
     "name": "stdout",
     "output_type": "stream",
     "text": [
      "Error response from daemon: Container 227518a5658159522c7f377cd45cd92782aff361d0c07a580cb513bcc660e927 is not running\r\n"
     ]
    }
   ],
   "source": [
    "!docker exec $ID ls -l /tmp"
   ]
  },
  {
   "cell_type": "markdown",
   "metadata": {},
   "source": [
    "However, we can start it again using ``start``:"
   ]
  },
  {
   "cell_type": "code",
   "execution_count": 22,
   "metadata": {},
   "outputs": [
    {
     "name": "stdout",
     "output_type": "stream",
     "text": [
      "227518a5658159522c7f377cd45cd92782aff361d0c07a580cb513bcc660e927\r\n"
     ]
    }
   ],
   "source": [
    "!docker start $ID"
   ]
  },
  {
   "cell_type": "code",
   "execution_count": 23,
   "metadata": {},
   "outputs": [
    {
     "name": "stdout",
     "output_type": "stream",
     "text": [
      "total 0\r\n",
      "-rw-r--r-- 1 root root 0 Sep  9 06:56 my-file.txt\r\n"
     ]
    }
   ],
   "source": [
    "!docker exec $ID ls -l /tmp"
   ]
  },
  {
   "cell_type": "markdown",
   "metadata": {},
   "source": [
    "## The ``container ls`` command (``ps``)"
   ]
  },
  {
   "cell_type": "markdown",
   "metadata": {},
   "source": [
    "This is a good opportunity for some more detail on the ``docker container ls`` command:\n",
    "\n",
    "Reminder: the ``ls`` command lists all *containers*. Containers are instances of images that are created when an image is being executed. \n",
    "\n",
    "The ``ls`` command shows all running containers:"
   ]
  },
  {
   "cell_type": "code",
   "execution_count": 24,
   "metadata": {},
   "outputs": [
    {
     "name": "stdout",
     "output_type": "stream",
     "text": [
      "CONTAINER ID        IMAGE               COMMAND             CREATED             STATUS              PORTS               NAMES\r\n",
      "227518a56581        cowimage            \"bash\"              37 seconds ago      Up 4 seconds                            stupefied_elbakyan\r\n",
      "6ba4f1e46f45        cowimage            \"bash\"              48 seconds ago      Up 48 seconds                           compassionate_fermat\r\n"
     ]
    }
   ],
   "source": [
    "!docker container ls"
   ]
  },
  {
   "cell_type": "markdown",
   "metadata": {},
   "source": [
    "If we stop our container, it will not be displayed anymore using ``ls``:"
   ]
  },
  {
   "cell_type": "code",
   "execution_count": 25,
   "metadata": {},
   "outputs": [
    {
     "name": "stdout",
     "output_type": "stream",
     "text": [
      "227518a5658159522c7f377cd45cd92782aff361d0c07a580cb513bcc660e927\r\n"
     ]
    }
   ],
   "source": [
    "!docker stop $ID"
   ]
  },
  {
   "cell_type": "code",
   "execution_count": 26,
   "metadata": {},
   "outputs": [
    {
     "name": "stdout",
     "output_type": "stream",
     "text": [
      "CONTAINER ID        IMAGE               COMMAND             CREATED             STATUS              PORTS               NAMES\r\n",
      "6ba4f1e46f45        cowimage            \"bash\"              56 seconds ago      Up 55 seconds                           compassionate_fermat\r\n"
     ]
    }
   ],
   "source": [
    "!docker container ls"
   ]
  },
  {
   "cell_type": "markdown",
   "metadata": {},
   "source": [
    "### ``ls -a``\n",
    "\n",
    "We can see all containers (even those not executing) using the ``ls -a`` option. Note that a container that is run running has the status ``Exited``, whereas the active processes show ``Up [some time]``:"
   ]
  },
  {
   "cell_type": "code",
   "execution_count": 27,
   "metadata": {},
   "outputs": [
    {
     "name": "stdout",
     "output_type": "stream",
     "text": [
      "CONTAINER ID        IMAGE               COMMAND             CREATED              STATUS                     PORTS               NAMES\r\n",
      "227518a56581        cowimage            \"bash\"              49 seconds ago       Exited (0) 4 seconds ago                       stupefied_elbakyan\r\n",
      "6ba4f1e46f45        cowimage            \"bash\"              About a minute ago   Up 59 seconds                                  compassionate_fermat\r\n"
     ]
    }
   ],
   "source": [
    "!docker container ls -a"
   ]
  },
  {
   "cell_type": "markdown",
   "metadata": {},
   "source": [
    "### ``--last N``\n",
    "The ``--last N`` option shows the last N containers that have been created (irrespective of if they are running or not). For example the last 3 containers:"
   ]
  },
  {
   "cell_type": "code",
   "execution_count": 28,
   "metadata": {},
   "outputs": [
    {
     "name": "stdout",
     "output_type": "stream",
     "text": [
      "CONTAINER ID        IMAGE               COMMAND             CREATED              STATUS                     PORTS               NAMES\r\n",
      "227518a56581        cowimage            \"bash\"              51 seconds ago       Exited (0) 6 seconds ago                       stupefied_elbakyan\r\n",
      "6ba4f1e46f45        cowimage            \"bash\"              About a minute ago   Up About a minute                              compassionate_fermat\r\n"
     ]
    }
   ],
   "source": [
    "!docker container ls --last 3"
   ]
  },
  {
   "cell_type": "markdown",
   "metadata": {},
   "source": [
    "### ``container ls`` == ``ps``\n",
    "\n",
    "As the ``container ls`` command behaves a little bit like the Linux ``ps`` command, we can use ``docker ps`` instead of ``docker container ls``:"
   ]
  },
  {
   "cell_type": "code",
   "execution_count": 29,
   "metadata": {},
   "outputs": [
    {
     "name": "stdout",
     "output_type": "stream",
     "text": [
      "CONTAINER ID        IMAGE               COMMAND             CREATED             STATUS                      PORTS               NAMES\r\n",
      "227518a56581        cowimage            \"bash\"              58 seconds ago      Exited (0) 14 seconds ago                       stupefied_elbakyan\r\n"
     ]
    }
   ],
   "source": [
    "!docker container ls --last 1"
   ]
  },
  {
   "cell_type": "code",
   "execution_count": 30,
   "metadata": {},
   "outputs": [
    {
     "name": "stdout",
     "output_type": "stream",
     "text": [
      "CONTAINER ID        IMAGE               COMMAND             CREATED              STATUS                      PORTS               NAMES\r\n",
      "227518a56581        cowimage            \"bash\"              About a minute ago   Exited (0) 19 seconds ago                       stupefied_elbakyan\r\n"
     ]
    }
   ],
   "source": [
    "!docker ps --last 1"
   ]
  },
  {
   "cell_type": "markdown",
   "metadata": {},
   "source": [
    "## Remove all exited containers"
   ]
  },
  {
   "cell_type": "markdown",
   "metadata": {},
   "source": [
    "To remove an exited container from our host, we can use ``docker container rm`` command:"
   ]
  },
  {
   "cell_type": "code",
   "execution_count": 31,
   "metadata": {},
   "outputs": [
    {
     "name": "stdout",
     "output_type": "stream",
     "text": [
      "227518a5658159522c7f377cd45cd92782aff361d0c07a580cb513bcc660e927\r\n"
     ]
    }
   ],
   "source": [
    "!docker container rm $ID"
   ]
  },
  {
   "cell_type": "markdown",
   "metadata": {},
   "source": [
    "What is the container that has been created most recently now?"
   ]
  },
  {
   "cell_type": "code",
   "execution_count": 32,
   "metadata": {},
   "outputs": [
    {
     "name": "stdout",
     "output_type": "stream",
     "text": [
      "CONTAINER ID        IMAGE               COMMAND             CREATED              STATUS              PORTS               NAMES\r\n",
      "6ba4f1e46f45        cowimage            \"bash\"              About a minute ago   Up About a minute                       compassionate_fermat\r\n"
     ]
    }
   ],
   "source": [
    "!docker container ls -a --last 1"
   ]
  },
  {
   "cell_type": "markdown",
   "metadata": {},
   "source": [
    "If we don't need any state that maybe saved in our exited containers, we can remove them from our host system. We can ask for the container ids (``-q``) for all containers:"
   ]
  },
  {
   "cell_type": "code",
   "execution_count": 33,
   "metadata": {},
   "outputs": [
    {
     "name": "stdout",
     "output_type": "stream",
     "text": [
      "6ba4f1e46f45\r\n"
     ]
    }
   ],
   "source": [
    "!docker container ls -a -q\n"
   ]
  },
  {
   "cell_type": "markdown",
   "metadata": {},
   "source": [
    "and we can use that information to pass all the container ids to the ``rm`` command:"
   ]
  },
  {
   "cell_type": "code",
   "execution_count": 34,
   "metadata": {},
   "outputs": [
    {
     "name": "stdout",
     "output_type": "stream",
     "text": [
      "Error response from daemon: You cannot remove a running container 6ba4f1e46f452b8be22ba86531b2307f3799c718ee8865149d320660cbf70924. Stop the container before attempting removal or force remove\r\n"
     ]
    }
   ],
   "source": [
    "!docker container rm $(docker container ls -a -q)"
   ]
  },
  {
   "cell_type": "code",
   "execution_count": 35,
   "metadata": {},
   "outputs": [
    {
     "name": "stdout",
     "output_type": "stream",
     "text": [
      "CONTAINER ID        IMAGE               COMMAND             CREATED              STATUS              PORTS               NAMES\r\n",
      "6ba4f1e46f45        cowimage            \"bash\"              About a minute ago   Up About a minute                       compassionate_fermat\r\n"
     ]
    }
   ],
   "source": [
    "!docker container ls -a"
   ]
  },
  {
   "cell_type": "markdown",
   "metadata": {},
   "source": [
    "We can stop individual containers using the ``stop`` command (see above). To stop all running containers conveniently, we can use the ``kill`` command:"
   ]
  },
  {
   "cell_type": "code",
   "execution_count": 36,
   "metadata": {},
   "outputs": [
    {
     "name": "stdout",
     "output_type": "stream",
     "text": [
      "6ba4f1e46f45\r\n"
     ]
    }
   ],
   "source": [
    "!docker container kill $(docker container ls -q)"
   ]
  },
  {
   "cell_type": "markdown",
   "metadata": {},
   "source": [
    "## More convenience: naming containers"
   ]
  },
  {
   "cell_type": "markdown",
   "metadata": {},
   "source": [
    "In the example above, we have used the ID of the container. We can also give containers a name ourselves (ideally one that is easier to remember) and use that to refer to the container:"
   ]
  },
  {
   "cell_type": "code",
   "execution_count": 37,
   "metadata": {},
   "outputs": [
    {
     "name": "stdout",
     "output_type": "stream",
     "text": [
      "04c4e348b76fc1a6cfbbe30d902241faf4eca032360f70552dc0002dadee8cc4\r\n"
     ]
    }
   ],
   "source": [
    "!docker run -d -t --name myname cowimage bash"
   ]
  },
  {
   "cell_type": "code",
   "execution_count": 38,
   "metadata": {},
   "outputs": [
    {
     "name": "stdout",
     "output_type": "stream",
     "text": [
      "CONTAINER ID        IMAGE               COMMAND             CREATED             STATUS              PORTS               NAMES\r\n",
      "04c4e348b76f        cowimage            \"bash\"              2 seconds ago       Up 1 second                             myname\r\n"
     ]
    }
   ],
   "source": [
    "!docker container ls"
   ]
  },
  {
   "cell_type": "code",
   "execution_count": 39,
   "metadata": {},
   "outputs": [
    {
     "name": "stdout",
     "output_type": "stream",
     "text": [
      "Sun Sep  9 06:57:23 UTC 2018\r\n"
     ]
    }
   ],
   "source": [
    "!docker exec myname date"
   ]
  },
  {
   "cell_type": "code",
   "execution_count": 40,
   "metadata": {},
   "outputs": [
    {
     "name": "stdout",
     "output_type": "stream",
     "text": [
      "myname\r\n"
     ]
    }
   ],
   "source": [
    "!docker container stop myname"
   ]
  },
  {
   "cell_type": "code",
   "execution_count": 41,
   "metadata": {},
   "outputs": [
    {
     "name": "stdout",
     "output_type": "stream",
     "text": [
      "myname\r\n"
     ]
    }
   ],
   "source": [
    "!docker container rm myname"
   ]
  },
  {
   "cell_type": "markdown",
   "metadata": {},
   "source": [
    "It is also worth noting that we don't need to use the full hash of the container ID when referring to them; we can just use the leading few characters as long as they are unique:"
   ]
  },
  {
   "cell_type": "code",
   "execution_count": 42,
   "metadata": {
    "collapsed": true
   },
   "outputs": [],
   "source": [
    "output = !docker run -dt --name myname cowimage bash"
   ]
  },
  {
   "cell_type": "code",
   "execution_count": 43,
   "metadata": {},
   "outputs": [
    {
     "name": "stdout",
     "output_type": "stream",
     "text": [
      "e14eba99c7b0121fe5168e59362cbd5a6ed5786795f83f0be57a3eafb435fe8d\n"
     ]
    }
   ],
   "source": [
    "IDfull = output[0]\n",
    "print(IDfull)"
   ]
  },
  {
   "cell_type": "code",
   "execution_count": 44,
   "metadata": {},
   "outputs": [
    {
     "name": "stdout",
     "output_type": "stream",
     "text": [
      "e14\n"
     ]
    }
   ],
   "source": [
    "IDshort = IDfull[0:3]\n",
    "print(IDshort)"
   ]
  },
  {
   "cell_type": "code",
   "execution_count": 45,
   "metadata": {},
   "outputs": [
    {
     "name": "stdout",
     "output_type": "stream",
     "text": [
      "Sun Sep  9 06:57:37 UTC 2018\r\n"
     ]
    }
   ],
   "source": [
    "!docker container exec $IDshort date"
   ]
  },
  {
   "cell_type": "code",
   "execution_count": 46,
   "metadata": {},
   "outputs": [
    {
     "name": "stdout",
     "output_type": "stream",
     "text": [
      "Sun Sep  9 06:57:37 UTC 2018\r\n"
     ]
    }
   ],
   "source": [
    "!docker container exec $IDfull date"
   ]
  },
  {
   "cell_type": "markdown",
   "metadata": {},
   "source": [
    "And some tidying up:"
   ]
  },
  {
   "cell_type": "code",
   "execution_count": 47,
   "metadata": {},
   "outputs": [
    {
     "name": "stdout",
     "output_type": "stream",
     "text": [
      "e14\r\n"
     ]
    }
   ],
   "source": [
    "!docker container stop $IDshort"
   ]
  },
  {
   "cell_type": "code",
   "execution_count": 48,
   "metadata": {},
   "outputs": [
    {
     "name": "stdout",
     "output_type": "stream",
     "text": [
      "e14\r\n"
     ]
    }
   ],
   "source": [
    "!docker container rm $IDshort"
   ]
  },
  {
   "cell_type": "markdown",
   "metadata": {},
   "source": [
    "## More convenience: dropping ``container`` from commands"
   ]
  },
  {
   "cell_type": "markdown",
   "metadata": {},
   "source": [
    "In many places where we have used ``container`` above, this can be dropped from the command:"
   ]
  },
  {
   "cell_type": "code",
   "execution_count": 49,
   "metadata": {},
   "outputs": [
    {
     "name": "stdout",
     "output_type": "stream",
     "text": [
      "88dac8aaa738d89d3e6706328076db43bdaac9d48252c0f8f54b6b7a87da2c93\r\n"
     ]
    }
   ],
   "source": [
    "!docker run -dt --name myname2 cowimage bash"
   ]
  },
  {
   "cell_type": "code",
   "execution_count": 50,
   "metadata": {},
   "outputs": [
    {
     "name": "stdout",
     "output_type": "stream",
     "text": [
      "Sun Sep  9 06:57:44 UTC 2018\r\n"
     ]
    }
   ],
   "source": [
    "!docker exec myname2 date"
   ]
  },
  {
   "cell_type": "code",
   "execution_count": 51,
   "metadata": {},
   "outputs": [
    {
     "name": "stdout",
     "output_type": "stream",
     "text": [
      "myname2\r\n"
     ]
    }
   ],
   "source": [
    "!docker stop myname2"
   ]
  },
  {
   "cell_type": "code",
   "execution_count": 52,
   "metadata": {},
   "outputs": [
    {
     "name": "stdout",
     "output_type": "stream",
     "text": [
      "myname2\r\n"
     ]
    }
   ],
   "source": [
    "!docker rm myname2"
   ]
  },
  {
   "cell_type": "markdown",
   "metadata": {},
   "source": [
    "Using ``docker container exec`` and ``docker container stop`` is sligthly clearer that ``docker exec`` and ``docker stop`` and done here for education purposes, but typically people will omit the ``container`` from the commands."
   ]
  }
 ],
 "metadata": {
  "anaconda-cloud": {},
  "kernelspec": {
   "display_name": "Python 3",
   "language": "python",
   "name": "python3"
  },
  "language_info": {
   "codemirror_mode": {
    "name": "ipython",
    "version": 3
   },
   "file_extension": ".py",
   "mimetype": "text/x-python",
   "name": "python",
   "nbconvert_exporter": "python",
   "pygments_lexer": "ipython3",
   "version": "3.6.0"
  }
 },
 "nbformat": 4,
 "nbformat_minor": 1
}
