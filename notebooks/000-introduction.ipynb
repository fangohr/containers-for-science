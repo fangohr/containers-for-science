{
 "cells": [
  {
   "cell_type": "markdown",
   "metadata": {},
   "source": [
    "# Introduction to Containers for Science"
   ]
  },
  {
   "cell_type": "markdown",
   "metadata": {},
   "source": [
    "This chapter motivates why containers are a powerful tool for science. If you want to jump straight into the examples, jump to the `Hello world` container in the next chapter.\n",
    "\n",
    "\n",
    "\n",
    "## Computational science challenge: unusual installation requirements\n",
    "\n",
    "Computational science projects often relay on unusual libraries, or rely on particular versions of a library, or a combination of particular libraries. Often, these tools have only been developed to be used on a particular operating system (say SuSE, Debian, Ubuntu, ...) and depend on the packages one of the versions of these distribution provides.\n",
    "\n",
    "This makes the code difficult to port (to other machines), to use in the future (if operating system upgrades are required and the updated operating system breaks one of the requirements of the tool, and difficult to re-use by others.\n",
    "\n",
    "Containers offer a practical way of allowing installation of such tools inside the container image, execution inside the container, and tus portability (as the container can be run on other machines) and also the ability to run the container in the future.\n",
    "\n",
    "## Computational science challenge: reproducibility\n",
    "\n",
    "Reproducibility of computational science has become a widely debated topic. We have made good progress with, for example, the use of versioning tools for software (so that it is possible to go back to particular versions of code that may have been used for a particular study). Github and bitbucket, for example, have helped researches to have cloud hosted version control of their research software.\n",
    "\n",
    "One area of computational science that in my view is not sufficiently addressed at the moment is that of the computational environment: it is not enough to have the source code, we also need to know (i) how to install it and (ii) which libraries the code may have used to compute a particular result.\n",
    "\n",
    "Containers offer a good way of documenting this. The file that species how the container image should be built (the `Dockerfile` in the coming chapters), documents *exactly* the compute environment in which the software should execute.\n",
    "\n",
    "## Computational science challenge: execution of code on cluster\n",
    "\n",
    "High Performance Computing installations (ofter a Linux cluster) are generally maintained by specialist IT staff, and the scientists are users on the system. As such, the scientists generally have no administrator rights, and IT staff install software on the cluster on behalf of the users. As alluded to above, the users may have quite specific requirements on the particular versions of tools they need, leading to tools to manage different versions of software (`module load ...`) and lengthy processes to install software: for example the operating system is generally fixed, and thus occasionally it is not possible (within the staff time available) to port a tool onto an supercomputer for the user.\n",
    "\n",
    "Containers have a solution to this problem: the user can provide their own container with the installed software, and thus completely (i) elimenate the need to have multiple versions of libraries of the supercomputer and (ii) reduce IT staff time required to install the software. In the following chapters, I use Docker as an application to run containers. In the High Performance Computing community other container applications are likely to be more widely spread, such as for example `singularity'.\n",
    "\n",
    "## So what are these containers?\n",
    "\n",
    "Containers are a slim version of virtual machines: they allow us to use an operating system of our choice, install software of our choice, and execute this software 'inside' the container. This can be done seamlessly, i.e. it is possible to just run one command inside the container and it doesn't take long to start the container (sub seconds). It is possible to execute multiple different containers on the same machine to execute tasks in their respectively preferred compute environment.\n",
    "\n",
    "The subsequent chapters give more details on the use of containers, creation of (container) images, mounting of file systems, and sharing of ports between containers and host. \n",
    "\n",
    "For the quick tour here, we assume the reader has installed Docker [1] on their computer.\n",
    "\n",
    "[1] http://docker.com\n",
    "\n",
    "## This document\n",
    "\n",
    "The document will grow over time. It is available:\n",
    "\n",
    "* sources at http://github.com/fangohr/containers-for-science\n",
    "* notebooks (one for each chapter at https://github.com/fangohr/containers-for-science/tree/master/notebooks)\n",
    "* pdf version at https://github.com/fangohr/containers-for-science/tree/master/pdf/containers-for-science.pdf\n",
    "* html version at https://github.com/fangohr/containers-for-science/tree/master/html/index.html\n",
    "\n",
    "The pdf and html versions will be updated from the source occasionally.\n",
    "\n",
    "If you know the Jupyter notebook, you may want to clone the repository, and execute the notebooks in the `notebooks` chapter to walk through the commands interactively.\n"
   ]
  },
  {
   "cell_type": "code",
   "execution_count": null,
   "metadata": {
    "collapsed": true
   },
   "outputs": [],
   "source": []
  }
 ],
 "metadata": {
  "anaconda-cloud": {},
  "kernelspec": {
   "display_name": "Python 3",
   "language": "python",
   "name": "python3"
  },
  "language_info": {
   "codemirror_mode": {
    "name": "ipython",
    "version": 3
   },
   "file_extension": ".py",
   "mimetype": "text/x-python",
   "name": "python",
   "nbconvert_exporter": "python",
   "pygments_lexer": "ipython3",
   "version": "3.6.0"
  }
 },
 "nbformat": 4,
 "nbformat_minor": 1
}
